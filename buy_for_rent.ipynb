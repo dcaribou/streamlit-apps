{
 "cells": [
  {
   "cell_type": "code",
   "execution_count": 2,
   "metadata": {},
   "outputs": [],
   "source": [
    "# model wealth across time for an individual who buys a house to rent out\n",
    "\n",
    "import numpy as np\n",
    "import matplotlib.pyplot as plt\n",
    "import pandas as pd\n",
    "import numpy_financial as npf\n",
    "from utils.financial import (\n",
    "    mortgage_monthly_payment,\n",
    "    mortgage_principal_contribution\n",
    ")\n",
    "\n",
    "# set parameters\n",
    "\n",
    "house_price = 1000000\n",
    "down_payment = 0.2\n",
    "interest_rate = 0.04\n",
    "time_period = 30\n",
    "\n",
    "# calculate monthly payment\n",
    "\n",
    "monthly_payment = mortgage_monthly_payment(interest_rate, house_price * (1 - down_payment), time_period)\n",
    "principal = mortgage_principal_contribution(interest_rate, monthly_payment, 2, time_period)\n"
   ]
  }
 ],
 "metadata": {
  "kernelspec": {
   "display_name": ".venv",
   "language": "python",
   "name": "python3"
  },
  "language_info": {
   "codemirror_mode": {
    "name": "ipython",
    "version": 3
   },
   "file_extension": ".py",
   "mimetype": "text/x-python",
   "name": "python",
   "nbconvert_exporter": "python",
   "pygments_lexer": "ipython3",
   "version": "3.11.5"
  }
 },
 "nbformat": 4,
 "nbformat_minor": 2
}

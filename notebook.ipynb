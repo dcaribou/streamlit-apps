{
 "cells": [
  {
   "cell_type": "markdown",
   "metadata": {},
   "source": [
    "# Just a notebook for playing around with stuff"
   ]
  },
  {
   "cell_type": "markdown",
   "metadata": {},
   "source": [
    "## calendar-analytics"
   ]
  },
  {
   "cell_type": "code",
   "execution_count": 1,
   "metadata": {},
   "outputs": [],
   "source": [
    "from shared.googlelib import (\n",
    "    authenticate,\n",
    "    fetch_calendars,\n",
    "    fetch_calendar_events\n",
    ")\n",
    "import pandas as pd"
   ]
  },
  {
   "cell_type": "code",
   "execution_count": 2,
   "metadata": {},
   "outputs": [],
   "source": [
    "creds = authenticate(\n",
    "    \"client_secret_153639038451-8r2mq88ll6utdkb5fe2aacelccpl10mp.apps.googleusercontent.com.json\"\n",
    ")"
   ]
  },
  {
   "cell_type": "code",
   "execution_count": 21,
   "metadata": {},
   "outputs": [],
   "source": [
    "calendars = fetch_calendars(creds)\n",
    "events = fetch_calendar_events(creds, map(lambda x: x['summary'], calendars))"
   ]
  },
  {
   "cell_type": "code",
   "execution_count": 22,
   "metadata": {},
   "outputs": [],
   "source": [
    "events_df = pd.json_normalize(events)"
   ]
  },
  {
   "cell_type": "code",
   "execution_count": 28,
   "metadata": {},
   "outputs": [],
   "source": [
    "# Curate the events dataframe\n",
    "\n",
    "# Convert the start.dateTime and end.dateTime column to a datetime object and localize it to Spain timezone\n",
    "events_df[\"start.dateTime\"] = pd.to_datetime(events_df[\"start.dateTime\"], utc=True).dt.tz_convert(\"Europe/Madrid\")\n",
    "events_df[\"end.dateTime\"] = pd.to_datetime(events_df[\"end.dateTime\"], utc=True).dt.tz_convert(\"Europe/Madrid\")\n",
    "\n",
    "# Create duration columns\n",
    "events_df[\"duration\"] = pd.to_timedelta(events_df[\"end.dateTime\"] - events_df[\"start.dateTime\"])\n",
    "events_df[\"duration_in_minutes\"] = events_df[\"duration\"].dt.total_seconds() / 60\n",
    "\n",
    "# filter out events older than 60 days\n",
    "events_60_df = events_df[events_df[\"start.dateTime\"] > pd.Timestamp.now(tz=\"Europe/Madrid\") - pd.DateOffset(days=60)]"
   ]
  }
 ],
 "metadata": {
  "kernelspec": {
   "display_name": ".venv",
   "language": "python",
   "name": "python3"
  },
  "language_info": {
   "codemirror_mode": {
    "name": "ipython",
    "version": 3
   },
   "file_extension": ".py",
   "mimetype": "text/x-python",
   "name": "python",
   "nbconvert_exporter": "python",
   "pygments_lexer": "ipython3",
   "version": "3.12.0"
  }
 },
 "nbformat": 4,
 "nbformat_minor": 2
}
